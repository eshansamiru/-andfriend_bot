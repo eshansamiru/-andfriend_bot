{
 "cells": [
  {
   "cell_type": "code",
   "execution_count": 1,
   "metadata": {},
   "outputs": [
    {
     "ename": "SyntaxError",
     "evalue": "invalid syntax (Temp/ipykernel_6136/833059272.py, line 15)",
     "output_type": "error",
     "traceback": [
      "\u001b[1;36m  File \u001b[1;32m\"C:\\Users\\User\\AppData\\Local\\Temp/ipykernel_6136/833059272.py\"\u001b[1;36m, line \u001b[1;32m15\u001b[0m\n\u001b[1;33m    resport = requests.get(\"IMAGE_LINK\")import telebot\u001b[0m\n\u001b[1;37m                                        ^\u001b[0m\n\u001b[1;31mSyntaxError\u001b[0m\u001b[1;31m:\u001b[0m invalid syntax\n"
     ]
    }
   ],
   "source": [
    "\n",
    "def start(message):\n",
    "    print(message.text)\n",
    "    \n",
    "    @bot.message_handler(command=[\"hello\", \"hi\"])\n",
    "    def hello(message):\n",
    "        bot.send_message(message.chat.id, \"Hello Friends\")\n",
    "        \n",
    "        @bot.message_handler(commands=[\"image\", \"img\"])\n",
    "        def image(message):\n",
    "            img = open(\"hello.jpg\", \"rb\")\n",
    "            bot.send_photo(message.chat.id, img)\n",
    "            \n",
    "            @bot.message_handler(command=[\"imagenet\", \"imgnet\"])\n",
    "            def imagenet(message):\n",
    "                resport = requests.get(\"IMAGE_LINK\")\n",
    "import telebot\n",
    "import time\n",
    "\n",
    "from PIL import Image\n",
    "import requests\n",
    "\n",
    "TOKEN = \"5037468153:AAH4J5sPEWI8t7-E2VvK8PyF5RwQNqeJ0U4\"\n",
    "#This is my image link\n",
    "bot = telebot.TeleBot(TOKEN)\n",
    "\n",
    "@bot.inline_handler(lambda query:query.query == \"test\")\n",
    "def test(inline_query):\n",
    "    r = types.inlineQueryResultArticle(\n",
    "        #The id of our inline result\n",
    "        id='1',\n",
    "        title='test',\n",
    "        input_message_content=types.InputTextMessageContent(\n",
    "            \n",
    "        )\n",
    "    )\n",
    "    bot.answer_inline_query(inline_query.id, [r])\n",
    "    \n",
    "    @bot.inline_handler(lambda query: query.query == 'image')\n",
    "    def image(inline_query):\n",
    "        r : types.InlineQueryResultPhoto(\n",
    "            id='11',\n",
    "            photo_url=(https://www.google.com/url?sa=i&url=https%3A%2F%2Farchziner.com%2Flifestyle%2Frebellious-cool-wallpapers-for-boys%2F&psig=AOvVaw3BKwfz43YVOKxshDsL-3M_&ust=1638718118991000&source=images&cd=vfe&ved=0CAsQjRxqFwoTCNjM4Ozvy_QCFQAAAAAdAAAAABAD)\n",
    "            \n",
    "        )\n",
    "\n",
    "@bot.mesege_handler(commands=[\"start\"])\n",
    "                imgnet = Image.open(bytstIO(response.content))\n",
    "                #Send the photo\n",
    "                bot.send_photo(message.chat.id, imgnet)\n",
    "                \n",
    "                @bot.message_handler(commands=[\"video\", \"vid\"])\n",
    "                def video(message):\n",
    "                    vid = open(\"video.mp4\", \"rb\")\n",
    "                    bot.send_video(message.chat.id, vid)\n",
    "                    \n",
    "                    @bot.message_handler(commands=[\"videonet\", \"vidnet\"])\n",
    "                    def videonet(message):\n",
    "                        download_file(VIDEO_LINK, \" myvideo.mp4\")\n",
    "                        vidnet = open(\"myvideo.mp4, \"rb\")\n",
    "                        bot.send_video(\"message.chat.id, videonet)\n",
    "                        \n",
    "                        \n",
    "                        \n",
    "\n",
    "while True:\n",
    "    try:\n",
    "        bot.polling(True)\n",
    "        bot.polling()\n",
    "    except:\n",
    "        time.sleep(S)"
   ]
  }
 ],
 "metadata": {
  "interpreter": {
   "hash": "aecd030d4c8316a52bf122072e28f84bcc79844c2684e041fef2e3f1d9f59078"
  },
  "kernelspec": {
   "display_name": "Python 3.10.0 64-bit",
   "language": "python",
   "name": "python3"
  },
  "language_info": {
   "codemirror_mode": {
    "name": "ipython",
    "version": 3
   },
   "file_extension": ".py",
   "mimetype": "text/x-python",
   "name": "python",
   "nbconvert_exporter": "python",
   "pygments_lexer": "ipython3",
   "version": "3.9.9"
  },
  "orig_nbformat": 4
 },
 "nbformat": 4,
 "nbformat_minor": 2
}
